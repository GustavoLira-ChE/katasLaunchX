{
 "cells": [
  {
   "cell_type": "markdown",
   "metadata": {},
   "source": [
    "# Ejercicio: Uso de funciones en Python"
   ]
  },
  {
   "cell_type": "markdown",
   "metadata": {},
   "source": [
    "Comienza por crear una función que necesite tres lecturas de combustible y devuelva un informe:"
   ]
  },
  {
   "cell_type": "code",
   "execution_count": 3,
   "metadata": {},
   "outputs": [],
   "source": [
    "# Función para leer 3 tanques de combustible y muestre el promedio\n",
    "def fuel_report(tank1, tank2, tank3):\n",
    "    average_fuel_percentage = round((tank1 + tank2 + tank3) / 3,2)\n",
    "    return f\"\"\"\n",
    "    The average fuel percentage in the space-ship is: {average_fuel_percentage}%\n",
    "    ----------------------------------------------------------------\n",
    "    * Main tank: {tank1}%\n",
    "    * Secondary tank: {tank2}%\n",
    "    * Emergency tank: {tank3}%\n",
    "    \"\"\""
   ]
  },
  {
   "cell_type": "code",
   "execution_count": 4,
   "metadata": {},
   "outputs": [
    {
     "name": "stdout",
     "output_type": "stream",
     "text": [
      "\n",
      "    The average fuel percentage in the space-ship is: 56.67\n",
      "    ----------------------------------------------------------------\n",
      "    * Main tank: 60\n",
      "    * Secondary tank: 30\n",
      "    * Emergency tank: 80\n",
      "    \n"
     ]
    }
   ],
   "source": [
    "# Llamamos a la función que genera el reporte print(funcion(tanque1, tanque2, tanque3))\n",
    "print(fuel_report(60,30,80))"
   ]
  },
  {
   "cell_type": "code",
   "execution_count": 7,
   "metadata": {},
   "outputs": [
    {
     "name": "stdout",
     "output_type": "stream",
     "text": [
      "51.67\n"
     ]
    }
   ],
   "source": [
    "# Función promedio \n",
    "def average(*args):\n",
    "    number_of_value = len(args)\n",
    "    average_value = sum(args)/number_of_value\n",
    "    return round(average_value,2)\n",
    "\n",
    "print(average(30,36,89))"
   ]
  },
  {
   "cell_type": "code",
   "execution_count": 11,
   "metadata": {},
   "outputs": [
    {
     "name": "stdout",
     "output_type": "stream",
     "text": [
      "\n",
      "    The average fuel percentage in the space-ship is: 58.33%\n",
      "    ----------------------------------------------------------------\n",
      "    * Main tank: 45%\n",
      "    * Secondary tank: 74%\n",
      "    * Emergency tank: 56%\n",
      "    \n"
     ]
    }
   ],
   "source": [
    "# Actualiza la función\n",
    "def fuel_report2(tank1, tank2, tank3):\n",
    "    return f\"\"\"\n",
    "    The average fuel percentage in the space-ship is: {average(tank1,tank2,tank3)}%\n",
    "    ----------------------------------------------------------------\n",
    "    * Main tank: {tank1}%\n",
    "    * Secondary tank: {tank2}%\n",
    "    * Emergency tank: {tank3}%\n",
    "    \"\"\"\n",
    "\n",
    "print(fuel_report2(45,74,56))"
   ]
  },
  {
   "cell_type": "markdown",
   "metadata": {},
   "source": [
    "# Ejercicio 2: Trabajo con argumentos de palabra clave"
   ]
  },
  {
   "cell_type": "markdown",
   "metadata": {},
   "source": [
    "En este ejercicio, construirás un informe de cohete que requiere varias piezas de información, como el tiempo hasta el destino, el combustible a la izquierda y el nombre del destino. Comienza por crear una función que creará un informe preciso de la misión:"
   ]
  },
  {
   "cell_type": "code",
   "execution_count": 13,
   "metadata": {},
   "outputs": [
    {
     "name": "stdout",
     "output_type": "stream",
     "text": [
      "\n",
      "    Welcome aboard\n",
      "    Waiting period to load systems: 120.\n",
      "    Travel time 2000 to arrive to Mars.\n",
      "    Total time of travel: 2120.\n",
      "    Total fuel for the flight: 50000 cubic meters.\n",
      "    \n"
     ]
    }
   ],
   "source": [
    "# Función con un informe preciso de la misión. \n",
    "# Considera hora de prelanzamiento, tiempo de vuelo, destino, tanque externo y tanque interno\n",
    "def mission_info(prelaunch_hour, flight_time, destination, external_tank, inner_tank):\n",
    "    return f\"\"\"\n",
    "    Welcome aboard\n",
    "    Waiting period to load systems: {prelaunch_hour}.\n",
    "    Travel time {flight_time} to arrive to {destination}.\n",
    "    Total time of travel: {prelaunch_hour + flight_time}.\n",
    "    Total fuel for the flight: {external_tank + inner_tank} cubic meters.\n",
    "    \"\"\"\n",
    "\n",
    "print(mission_info(120,2000,'Mars',2000,3000))"
   ]
  },
  {
   "cell_type": "code",
   "execution_count": 24,
   "metadata": {},
   "outputs": [
    {
     "name": "stdout",
     "output_type": "stream",
     "text": [
      "\n",
      "    Welcome aboard!\n",
      "    Our destination is to Moon.\n",
      "    ------------------------------------------------------\n",
      "    \n",
      "        Time of 1 stage is 8 minutes. \n",
      "        Using tank: launchTank with a fuel amount of 300000 liters.\n",
      "        \n",
      "        Time of 2 stage is 11 minutes. \n",
      "        Using tank: mainTank with a fuel amount of 200000 liters.\n",
      "        \n",
      "        Time of 3 stage is 55 minutes. \n",
      "        Using tank: arrivalTank with a fuel amount of 600000 liters.\n",
      "        \n"
     ]
    }
   ],
   "source": [
    "# Escribe tu nueva función\n",
    "def mission_inform(destination, *minutes, **fuel_resorvoirs):\n",
    "    index = 0\n",
    "    fist_message = f\"\"\"\n",
    "    Welcome aboard!\n",
    "    Our destination is to {destination}.\n",
    "    ------------------------------------------------------\n",
    "    \"\"\"\n",
    "    for tankName, fuelAmount in fuel_resorvoirs.items():\n",
    "        fist_message += f\"\"\"\n",
    "        Time of {index+1} stage is {minutes[index]} minutes. \n",
    "        Using tank: {tankName} with a fuel amount of {fuelAmount} liters.\n",
    "        \"\"\"\n",
    "        index += 1\n",
    "    #print(fuel_resorvoirs)\n",
    "    \n",
    "    return fist_message\n",
    "\n",
    "print(mission_inform('Moon',8, 11, 55, launchTank=300000, mainTank=200000, arrivalTank=600000))"
   ]
  }
 ],
 "metadata": {
  "interpreter": {
   "hash": "42ac86b89ac6434abe17bba956e5a787cba34446bde3f8cc1e0ab52d0ef24920"
  },
  "kernelspec": {
   "display_name": "Python 3.8.5 64-bit",
   "language": "python",
   "name": "python3"
  },
  "language_info": {
   "codemirror_mode": {
    "name": "ipython",
    "version": 3
   },
   "file_extension": ".py",
   "mimetype": "text/x-python",
   "name": "python",
   "nbconvert_exporter": "python",
   "pygments_lexer": "ipython3",
   "version": "3.8.5"
  },
  "orig_nbformat": 4
 },
 "nbformat": 4,
 "nbformat_minor": 2
}
