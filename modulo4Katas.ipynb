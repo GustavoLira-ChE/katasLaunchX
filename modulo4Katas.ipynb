{
 "cells": [
  {
   "cell_type": "markdown",
   "metadata": {},
   "source": [
    "# Ejercicio 1: Transformar cadenas"
   ]
  },
  {
   "cell_type": "markdown",
   "metadata": {},
   "source": [
    "Hay varias operaciones que puedes realizar en las cadenas cuando las manipulamos. En este ejercicio, usarás métodos de cadena para modificar el texto con hechos sobre la Luna y luego extraerás información para crear un breve resumen."
   ]
  },
  {
   "cell_type": "code",
   "execution_count": null,
   "metadata": {},
   "outputs": [],
   "source": [
    "text = \"\"\"Interesting facts about the Moon. The Moon is Earth's only satellite. There are several interesting facts about the Moon and how it affects life here on Earth. \n",
    "On average, the Moon moves 4cm away from the Earth every year. This yearly drift is not significant enough to cause immediate effects on Earth. The highest daylight temperature of th C\"\"\"\n",
    "\n",
    "#Divide el texto en cada oración.\n",
    "array = text.split(\".\")\n",
    "\n",
    "# Define las palabras pista: average, temperature y distance\n",
    "keyword = [\"average\", \"temperature\", \"distance\"]\n",
    "\n",
    "# Crea un bucle para imprimir solo datos sobre la Luna que estén relacionados con las palabras clave definidas anteriormente:\n",
    "length = len(array)\n",
    "for i in range(length):\n",
    "    for j in range(len(keyword)):\n",
    "        if keyword[j] in array[i]:\n",
    "            print(i,array[i])\n",
    "            break\n",
    "\n",
    "#Actualiza el bucle(ciclo) para cambiar C a Celsius:\n",
    "for i in range(length):\n",
    "    if ' C' in array[i]:\n",
    "        print(array[i].replace(' C', ' Celsius'))\n",
    "        break\n",
    "    else:\n",
    "        print(f\"not match find for sentence: {i+1}\")\n",
    "\n",
    "\n"
   ]
  },
  {
   "cell_type": "markdown",
   "metadata": {},
   "source": [
    "# Ejercicio 2: Formateando Cadenas"
   ]
  },
  {
   "cell_type": "markdown",
   "metadata": {},
   "source": [
    "En este ejercicio, se utilizan variables que contienen datos clave sobre la gravedad en varias lunas y luego se utilizan para dar formato e imprimir la información.\n",
    "\n",
    "El formato tiene que acomodar información sobre otras lunas, por lo que debe ser genérico.\n",
    "\n",
    "En lugar de reemplazar las variables en una cadena larga como parte de un párrafo, utiliza la información para presentarla en un formato tabular."
   ]
  },
  {
   "cell_type": "code",
   "execution_count": 16,
   "metadata": {},
   "outputs": [],
   "source": [
    "# Datos con los que vas a trabajar\n",
    "name = \"Moon\"\n",
    "gravity = 0.00162 # in kms\n",
    "planet = \"Earth\""
   ]
  },
  {
   "cell_type": "code",
   "execution_count": 18,
   "metadata": {},
   "outputs": [
    {
     "name": "stdout",
     "output_type": "stream",
     "text": [
      "Gravity Facts About: Moon\n"
     ]
    }
   ],
   "source": [
    "# Crear un título\n",
    "title = f\"gravity facts about: {name}\".title()\n",
    "print(title)"
   ]
  },
  {
   "cell_type": "code",
   "execution_count": 24,
   "metadata": {},
   "outputs": [
    {
     "name": "stdout",
     "output_type": "stream",
     "text": [
      "--------------------------------------------------------------------------------------\n",
      "Planet Name: Earth\n",
      "Gravity on Moon: 1.6199999999999999 m/s2\n"
     ]
    }
   ],
   "source": [
    "#Crear la platilla de cadena multilinea para los demás datos\n",
    "plantilla = f\"\"\"{\"-\"*60}\n",
    "Planet Name: {planet}\n",
    "Gravity on {name}: {gravity*1000} m/s2\"\"\""
   ]
  },
  {
   "cell_type": "code",
   "execution_count": null,
   "metadata": {},
   "outputs": [],
   "source": [
    "#Unión de ambas plantillas\n",
    "full_message = title + \"\\n\" + plantilla\n",
    "print(full_message)"
   ]
  },
  {
   "cell_type": "code",
   "execution_count": null,
   "metadata": {},
   "outputs": [],
   "source": [
    "# Comprueba la plantilla\n",
    "planeta = 'Marte '\n",
    "gravedad  = 0.00143 * 1000\n",
    "nombre = 'Ganímedes'\n",
    "# print(nombre_plantilla)\n",
    "print(full_message)"
   ]
  },
  {
   "cell_type": "code",
   "execution_count": 35,
   "metadata": {},
   "outputs": [
    {
     "name": "stdout",
     "output_type": "stream",
     "text": [
      "\n",
      "gravity facts about: Ganímedes\n",
      "------------------------------------------------------------\n",
      "Planet Name: Marte \n",
      "Gravity on Ganímedes: 0.00143 m/s2\n",
      "\n"
     ]
    }
   ],
   "source": [
    "# Nueva plantilla\n",
    "character = \"-\"*60\n",
    "new_template = \"\"\"\n",
    "gravity facts about: {name}\n",
    "{character}\n",
    "Planet Name: {planet}\n",
    "Gravity on {name}: {gravity} m/s2\n",
    "\"\"\"\n",
    "print(new_template.format(name=nombre, character=character, planet=planeta, gravity=gravedad))"
   ]
  }
 ],
 "metadata": {
  "interpreter": {
   "hash": "35c1ecb0f046c6524e5e1a9385dff1bcc3872e24fdc6f1de04dc6fc3393ca3ab"
  },
  "kernelspec": {
   "display_name": "Python 3.10.2 64-bit (windows store)",
   "language": "python",
   "name": "python3"
  },
  "language_info": {
   "codemirror_mode": {
    "name": "ipython",
    "version": 3
   },
   "file_extension": ".py",
   "mimetype": "text/x-python",
   "name": "python",
   "nbconvert_exporter": "python",
   "pygments_lexer": "ipython3",
   "version": "3.10.2"
  },
  "orig_nbformat": 4
 },
 "nbformat": 4,
 "nbformat_minor": 2
}
