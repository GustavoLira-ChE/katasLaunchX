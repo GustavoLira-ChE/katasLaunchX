{
 "cells": [
  {
   "cell_type": "markdown",
   "metadata": {},
   "source": [
    "# Ejercicio1: Crear y usar listas de Python"
   ]
  },
  {
   "cell_type": "code",
   "execution_count": 6,
   "metadata": {},
   "outputs": [
    {
     "name": "stdout",
     "output_type": "stream",
     "text": [
      "Number of planets: 8\n",
      "Number of planets: 9. The last planet is Pluto\n"
     ]
    }
   ],
   "source": [
    "#crea una variable denominada planets\n",
    "# Creamos la lista planets y la mostramos\n",
    "planets = [\"mercury\",\"venus\",\"earth\",\"mars\",\"jupiter\",\"saturn\",\"uranus\",\"neptune\"]\n",
    "print(f\"Number of planets: {len(planets)}\")\n",
    "\n",
    "# Agrega a Plutón a la lista que creaste. Luego muestra tanto el número de planetas como el último planeta de la lista.\n",
    "# Agregamos a plutón y mostramos el último elemento\n",
    "planets.append(\"pluto\")\n",
    "print(f\"Number of planets: {len(planets)}. The last planet is {planets[len(planets)-1].title()}\")"
   ]
  },
  {
   "cell_type": "markdown",
   "metadata": {},
   "source": [
    "# Ejercicio 2: Trabajando con datos de una lista"
   ]
  },
  {
   "cell_type": "code",
   "execution_count": 13,
   "metadata": {},
   "outputs": [],
   "source": [
    "# Lista de planetas\n",
    "planets = ['Mercury', 'Venus', 'Earth', 'Mars', 'Jupiter', 'Saturn', 'Neptune']"
   ]
  },
  {
   "cell_type": "code",
   "execution_count": 17,
   "metadata": {},
   "outputs": [
    {
     "name": "stdout",
     "output_type": "stream",
     "text": [
      "Your planet is:Earth\n",
      "Planets closer to the sun than yours, are:\n",
      "['Mercury', 'Venus']\n",
      "Planets further to the sun than yours, are:\n",
      "['Mars', 'Jupiter', 'Saturn', 'Neptune']\n"
     ]
    }
   ],
   "source": [
    "# Solicitamos el nombre de un planeta\n",
    "userPlanet = input(\"Enter a planet name (the first letter is capital letter):\")\n",
    "\n",
    "# Busca el planeta en la lista\n",
    "index = planets.index(userPlanet)\n",
    "\n",
    "# Muestra los planetas más cercanos al sol\n",
    "print(\"Your planet is:\" + userPlanet)\n",
    "print(\"Planets closer to the sun than yours, are:\")\n",
    "print(planets[0:index])\n",
    "\n",
    "# Muestra los planetas más lejanos al sol\n",
    "print(\"Planets further to the sun than yours, are:\")\n",
    "print(planets[index+1:])\n",
    "\n"
   ]
  }
 ],
 "metadata": {
  "interpreter": {
   "hash": "35c1ecb0f046c6524e5e1a9385dff1bcc3872e24fdc6f1de04dc6fc3393ca3ab"
  },
  "kernelspec": {
   "display_name": "Python 3.10.2 64-bit (windows store)",
   "language": "python",
   "name": "python3"
  },
  "language_info": {
   "codemirror_mode": {
    "name": "ipython",
    "version": 3
   },
   "file_extension": ".py",
   "mimetype": "text/x-python",
   "name": "python",
   "nbconvert_exporter": "python",
   "pygments_lexer": "ipython3",
   "version": "3.10.2"
  },
  "orig_nbformat": 4
 },
 "nbformat": 4,
 "nbformat_minor": 2
}
