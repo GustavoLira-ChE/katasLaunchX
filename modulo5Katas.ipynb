{
 "cells": [
  {
   "cell_type": "markdown",
   "metadata": {},
   "source": [
    "# Ejercicio1 - Utilizar operadores aritméticos"
   ]
  },
  {
   "cell_type": "code",
   "execution_count": 9,
   "metadata": {},
   "outputs": [
    {
     "name": "stdout",
     "output_type": "stream",
     "text": [
      "Distance between planets in kilometers is: 628949330\n",
      "--------------------------------------------------------------------\n",
      "Distance between planets in milles is : 390577533.93\n",
      "\n"
     ]
    }
   ],
   "source": [
    "firstPlanet = 778547200\n",
    "secondPlanet = 149597870\n",
    "\n",
    "if firstPlanet > secondPlanet:\n",
    "    distanceBetweenPlanet = firstPlanet - secondPlanet\n",
    "    dBPMilles = distanceBetweenPlanet * 0.621\n",
    "elif secondPlanet > firstPlanet:\n",
    "    distanceBetweenPlanet = secondPlanet - firstPlanet\n",
    "    dBPMilles = distanceBetweenPlanet * 0.621\n",
    "\n",
    "results = \"\"\"Distance between planets in kilometers is: {distanceBetweenPlanet}\n",
    "--------------------------------------------------------------------\n",
    "Distance between planets in milles is : {dBPMilles}\n",
    "\"\"\"\n",
    "results = results.format(distanceBetweenPlanet=distanceBetweenPlanet, dBPMilles =dBPMilles)\n",
    "print(results)\n"
   ]
  },
  {
   "cell_type": "markdown",
   "metadata": {},
   "source": [
    "# Ejercicio 2: convierte cadenas en números y usa valores absolutos"
   ]
  },
  {
   "cell_type": "code",
   "execution_count": 14,
   "metadata": {},
   "outputs": [
    {
     "name": "stdout",
     "output_type": "stream",
     "text": [
      "Distance between planets in kilometers is: 628949330\n",
      "--------------------------------------------------------------------\n",
      "Distance between planets in milles is : 390577533.93\n",
      "\n"
     ]
    }
   ],
   "source": [
    "#Leer los valores y convertirlos a número\n",
    "planet1 = int(input(\"Introduce la distancia del primer planeta\"))\n",
    "planet2 = int(input(\"Introduce la distancia del segundo planeta\"))\n",
    "\n",
    "#Realizar el cálculo y convertir a valor absoluto\n",
    "distance = abs(planet1 - planet2)\n",
    "#Convertir a millas el resultado\n",
    "distanceInMilles = distance * 0.621\n",
    "\n",
    "results2 = \"\"\"Distance between planets in kilometers is: {distance}\n",
    "--------------------------------------------------------------------\n",
    "Distance between planets in milles is : {distanceInMilles}\n",
    "\"\"\"\n",
    "results2 = results.format(distance=distance, distanceInMilles =distanceInMilles)\n",
    "print(results2)\n"
   ]
  },
  {
   "cell_type": "markdown",
   "metadata": {},
   "source": []
  }
 ],
 "metadata": {
  "interpreter": {
   "hash": "35c1ecb0f046c6524e5e1a9385dff1bcc3872e24fdc6f1de04dc6fc3393ca3ab"
  },
  "kernelspec": {
   "display_name": "Python 3.10.2 64-bit (windows store)",
   "language": "python",
   "name": "python3"
  },
  "language_info": {
   "codemirror_mode": {
    "name": "ipython",
    "version": 3
   },
   "file_extension": ".py",
   "mimetype": "text/x-python",
   "name": "python",
   "nbconvert_exporter": "python",
   "pygments_lexer": "ipython3",
   "version": "3.10.2"
  },
  "orig_nbformat": 4
 },
 "nbformat": 4,
 "nbformat_minor": 2
}
